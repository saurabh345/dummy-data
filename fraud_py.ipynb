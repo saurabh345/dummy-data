{
 "cells": [
  {
   "cell_type": "code",
   "execution_count": 5,
   "id": "497d93e5-7e15-4687-a93e-d0e055de0a14",
   "metadata": {},
   "outputs": [
    {
     "name": "stdout",
     "output_type": "stream",
     "text": [
      "total number of characters:41\n",
      "Character count (excluding spaces): 41\n",
      "last word using string slicing :  industries\n",
      "Extracted Word: industries\n"
     ]
    }
   ],
   "source": [
    "paragraph = \"Data Science and AI are transforming industries\"\n",
    "\n",
    "# a) Count characters excluding spaces\n",
    "char_count = len(paragraph.replace(\" \", \"\"))\n",
    "print(f\"total number of characters:{len(paragraph)-6}\")\n",
    "# b) Extract the last word using slicing\n",
    "last_word = paragraph[paragraph.rfind(\" \") + 1:]\n",
    "\n",
    "print(\"Character count (excluding spaces):\", char_count)\n",
    "print(f\"last word using string slicing :  {paragraph[37:47]}\")\n",
    "print(\"Extracted Word:\", last_word)"
   ]
  },
  {
   "cell_type": "code",
   "execution_count": 13,
   "id": "26409cfa-94e7-4093-92ad-cd5b33487766",
   "metadata": {},
   "outputs": [
    {
     "name": "stdout",
     "output_type": "stream",
     "text": [
      "{'laptop': 960.0, 'mouse': 44.0, 'keyboard': 88.0, 'monitor': 330.0}\n"
     ]
    }
   ],
   "source": [
    "# Q2: Task: Given a dictionary representing the price of different products: prices = {\"laptop\": 1200, \"mouse\": 40, \"keyboard\": 80, \"monitor\": 300} \n",
    "# ● If a product's price is above 500, reduce it by 20%. ● If a product's price is 500 or below, increase it by 10%.\n",
    "# Expected output: {'laptop': 960.0, 'mouse': 44.0, 'keyboard': 88.0, 'monitor': 330.0}\n",
    "\n",
    "\n",
    "prices = {\"laptop\": 1200, \"mouse\": 40, \"keyboard\": 80, \"monitor\": 300}\n",
    "\n",
    "updated_prices = {\n",
    "    key: (value * 0.8 if value > 500 else value * 1.1)\n",
    "    for key, value in prices.items()\n",
    "}\n",
    "\n",
    "print(updated_prices)\n"
   ]
  },
  {
   "cell_type": "code",
   "execution_count": 35,
   "id": "1958c61b-f941-481f-a6e7-905d3bf97d96",
   "metadata": {},
   "outputs": [
    {
     "name": "stdin",
     "output_type": "stream",
     "text": [
      "Enter the 6 number separated by spaces:   4 7 10 3 5 8\n"
     ]
    },
    {
     "name": "stdout",
     "output_type": "stream",
     "text": [
      "Product of all odd numbers: 105\n"
     ]
    }
   ],
   "source": [
    "# Q3: Task: Take 6 integer inputs using a loop. ● Compute the product of numbers that are odd. \n",
    "# ● If no odd numbers exist, print \"No odd numbers found”. Input: 4, 7, 10, 3, 5, 8 Expected output: 105\n",
    "\n",
    "numbers = list(map(int, input(\"Enter the 6 number separated by spaces: \").split()))\n",
    "product=1\n",
    "found_odd = False\n",
    "\n",
    "for num in numbers:\n",
    "    if num %2 != 0:\n",
    "         product = product*num\n",
    "         found_odd = True\n",
    "if found_odd:\n",
    "    print(\"Product of all odd numbers:\", product)\n",
    "else:\n",
    "    print(\"No odd numbers found\")"
   ]
  },
  {
   "cell_type": "code",
   "execution_count": 37,
   "id": "7a0169c0-b3f0-403f-8f02-577780c1b247",
   "metadata": {},
   "outputs": [
    {
     "name": "stdout",
     "output_type": "stream",
     "text": [
      "['21/03/2025', '03-20-2025']\n"
     ]
    }
   ],
   "source": [
    "# Q4: Task: Find all dates in a given text (formats: DD/MM/YYYY or MM-DD-YYYY) using re.findall() \n",
    "# Input: Import re text = \"Today's date is 21/03/2025 and yesterday was 03-20-2025.\"\n",
    "\n",
    "import re\n",
    "text = \"Today's date is 21/03/2025 and yesterday was 03-20-2025.\"\n",
    "pattern = r'\\d{2}/\\d{2}/\\d{4}+|\\d{2}-\\d{2}-\\d{4}+'\n",
    "match = re.findall(pattern,text)\n",
    "print(match)"
   ]
  },
  {
   "cell_type": "code",
   "execution_count": 41,
   "id": "fb013fa5-e2e2-434e-99de-34049c169256",
   "metadata": {},
   "outputs": [
    {
     "name": "stdout",
     "output_type": "stream",
     "text": [
      "Total Energy Consumption: {210} kWh\n",
      "Daily Contribution (%): [11.9  14.29  9.52 13.33 16.67 15.24 19.05]\n",
      "Average Daily Consumption: 30.0 kWh\n"
     ]
    }
   ],
   "source": [
    "# Q5: Task: Given the daily electricity consumption (in kWh) for a\n",
    "# week: import numpy as np energy_usage = np.array([25, 30, 20, 28, 35, 32, 40]) ● Compute the total energy consumed over the week. \n",
    "# ● Calculate the percentage contribution of each day's usage to the total. ● Calculate the average consumption of energy.\n",
    "\n",
    "import numpy as np\n",
    "\n",
    "energy_usage = np.array([25, 30, 20, 28, 35, 32, 40])\n",
    "\n",
    "# Total energy\n",
    "total_energy = np.sum(energy_usage)\n",
    "\n",
    "# Daily % contribution\n",
    "percent_contrib = (energy_usage / total) * 100\n",
    "percent_contrib = np.round(percent_contrib, 2)\n",
    "\n",
    "# Average daily consumption\n",
    "avg = np.mean(energy_usage)\n",
    "\n",
    "print(\"Total Energy Consumption:\", {total_energy} , \"kWh\")\n",
    "print(\"Daily Contribution (%):\", percent_contrib)\n",
    "print(\"Average Daily Consumption:\", avg, \"kWh\")\n",
    "\n",
    "#shorter\n",
    "energy_usage = np.array([25, 30, 20, 28, 35, 32, 40])\n",
    "\n",
    "print(\"Total:\", np.sum(energy_usage), \"kWh\")\n",
    "print(\"Daily %:\", np.round((energy_usage / np.sum(energy_usage)) * 100, 2))\n",
    "print(\"Average:\", np.mean(energy_usage), \"kWh\")"
   ]
  },
  {
   "cell_type": "code",
   "execution_count": null,
   "id": "c6425a46-8b1c-4bb7-ab63-b9840b0fca1f",
   "metadata": {},
   "outputs": [],
   "source": [
    "# Q6: Task: Create a bar chart for the following data. (x_axis = countries, y_axis=populations)\n",
    "# countries = [\"USA\", \"China\", \"India\", \"Germany\", \"Brazil\"] \n",
    "# populations = [331, 1441, 1380, 83, 213] # In millions\n",
    "\n",
    "import matplotlib.pyplot as plt\n",
    "\n",
    "countries = [\"USA\", \"China\", \"India\", \"Germany\", \"Brazil\"]\n",
    "populations = [331, 1441, 1380, 83, 213]\n",
    "\n",
    "plt.bar(countries, populations, color={'red','skyblue','yellow','blue','purple'})\n",
    "plt.xlabel(\"Countries\")\n",
    "plt.ylabel(\"Population (in millions)\")\n",
    "plt.title(\"Country-wise Population\")\n",
    "plt.show()\n"
   ]
  },
  {
   "cell_type": "code",
   "execution_count": null,
   "id": "48c680b5-de70-4545-b9d4-0833c98380bd",
   "metadata": {},
   "outputs": [],
   "source": [
    "# Q7: Task: Implement a DigitalWallet class with: add_money(amount) → Adds money to the wallet. \n",
    "# make_purchase(amount) → Deducts if funds are available, else prints \"Insufficient balance! Purchase declined.\"\n",
    "# wallet_summary() → Prints the current balance. Inputs: wallet = DigitalWallet(\"John\", 3000) wallet.add_money(2000) wallet.make_purchase(1000) \n",
    "# wallet.make_purchase(5000) wallet.wallet_summary() Expected output: Added: 2000, New Balance: 5000 Purchased: 1000, Remaining Balance: 4000 Insufficient balance! Purchase declined. Current Balance: 4000\n",
    "\n",
    "class DigitalWallet:\n",
    "      def __init__(self,name,money):\n",
    "         self.name=name\n",
    "         self.money=money\n",
    "\n",
    "      def wallet_summary(self):\n",
    "          print(f\"Current Balance: {self.money}\")\n",
    "\n",
    "      def add_money(self,amount):\n",
    "           if amount>0:\n",
    "               self.money += amount\n",
    "               print(f\"Added:{amount} , New Balance:{self.money}\")\n",
    "           else:\n",
    "               print(\"added money is not negative\")\n",
    "               \n",
    "      def make_purchase(self,amount):\n",
    "            if 0<amount <= self.money:\n",
    "                 self.money -= amount\n",
    "                 print(f\"Purchased :{amount}, Remaining Balance:{self.money}\")\n",
    "\n",
    "            else:\n",
    "                print(\"Insufficient balance! Purchase declined\")\n",
    "\n",
    "\n",
    "wallet = DigitalWallet(\"John\", 3000)\n",
    "wallet.add_money(2000)\n",
    "wallet.make_purchase(1000)\n",
    "wallet.make_purchase(5000)\n",
    "wallet.wallet_summary()"
   ]
  },
  {
   "cell_type": "code",
   "execution_count": 48,
   "id": "45ee8eb1-893f-4c50-bbcb-876dd7104179",
   "metadata": {},
   "outputs": [
    {
     "name": "stdout",
     "output_type": "stream",
     "text": [
      "54321\n"
     ]
    }
   ],
   "source": [
    "def reverse_number(n, rev=0):\n",
    "    if n == 0:\n",
    "        return rev\n",
    "    else:\n",
    "        return reverse_number(n // 10, rev * 10 + n % 10)\n",
    "\n",
    "# Test\n",
    "print(reverse_number(12345))\n"
   ]
  },
  {
   "cell_type": "code",
   "execution_count": null,
   "id": "ecd8e36f-dfc9-442c-9200-7753a97b1512",
   "metadata": {},
   "outputs": [],
   "source": []
  }
 ],
 "metadata": {
  "kernelspec": {
   "display_name": "Python [conda env:base] *",
   "language": "python",
   "name": "conda-base-py"
  },
  "language_info": {
   "codemirror_mode": {
    "name": "ipython",
    "version": 3
   },
   "file_extension": ".py",
   "mimetype": "text/x-python",
   "name": "python",
   "nbconvert_exporter": "python",
   "pygments_lexer": "ipython3",
   "version": "3.12.7"
  }
 },
 "nbformat": 4,
 "nbformat_minor": 5
}
