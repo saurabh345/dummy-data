{
 "cells": [
  {
   "cell_type": "code",
   "execution_count": 1,
   "id": "08ff0f77-63b3-41b3-b55f-f025b6e505c1",
   "metadata": {},
   "outputs": [],
   "source": [
    "import pandas as pd\n",
    "import numpy as np\n",
    "import matplotlib.pyplot as plt\n",
    "import seaborn as sns\n"
   ]
  },
  {
   "cell_type": "code",
   "execution_count": null,
   "id": "0416ba12-2496-44b1-91d2-dfd9e19941ba",
   "metadata": {},
   "outputs": [],
   "source": [
    " #Load the datasets\n",
    "\n",
    "beml_df = pd.read_csv(\"BEML.csv\")\n",
    "glaxo_df = pd.read_csv(\"GLAXO.csv\")\n"
   ]
  },
  {
   "cell_type": "code",
   "execution_count": null,
   "id": "f8146959-d0ca-42d1-9049-9939eea52edf",
   "metadata": {},
   "outputs": [],
   "source": [
    "print(\"BEML Info:\")\n",
    "print(beml_df.info())\n",
    "print(\"\\nGLAXO Info:\")\n",
    "print(glaxo_df.info())"
   ]
  },
  {
   "cell_type": "code",
   "execution_count": null,
   "id": "0538f702-89c5-4a50-988e-3695e19e214a",
   "metadata": {},
   "outputs": [],
   "source": [
    "print(\"Missing in BEML:\\n\", beml_df.isnull().sum())\n",
    "print(\"Missing in GLAXO:\\n\", glaxo_df.isnull().sum())"
   ]
  },
  {
   "cell_type": "code",
   "execution_count": null,
   "id": "3eb10875-bc03-45da-822b-1f236619aac9",
   "metadata": {},
   "outputs": [],
   "source": [
    "missing_percent_beml = (beml_df.isnull().sum() / len(beml_df)) * 100\n",
    "missing_percent_glaxo = (glaxo_df.isnull().sum() / len(glaxo_df)) * 100\n",
    "print(\"\\n% Missing (BEML):\\n\", missing_percent_beml)\n",
    "print(\"\\n% Missing (GLAXO):\\n\", missing_percent_glaxo)"
   ]
  },
  {
   "cell_type": "code",
   "execution_count": null,
   "id": "9607b4c5-78b0-4689-8656-00eb96674f94",
   "metadata": {},
   "outputs": [],
   "source": [
    "#drop \n",
    "threshold = 40\n",
    "beml_df = beml_df.loc[:, missing_percent_beml < threshold]\n",
    "glaxo_df = glaxo_df.loc[:, missing_percent_glaxo < threshold]"
   ]
  },
  {
   "cell_type": "code",
   "execution_count": null,
   "id": "54a315c1-f261-4865-911c-e8fff2497524",
   "metadata": {},
   "outputs": [],
   "source": [
    "print(\"Duplicates in BEML:\", beml_df.duplicated().sum())\n",
    "print(\"Duplicates in GLAXO:\", glaxo_df.duplicated().sum())\n"
   ]
  },
  {
   "cell_type": "code",
   "execution_count": null,
   "id": "62f7e538-4591-47ae-8784-966b2440e4e8",
   "metadata": {},
   "outputs": [],
   "source": [
    "# convert Date into datetime\n",
    "beml_df['Date'] = pd.to_datetime(beml_df['Date'])\n",
    "glaxo_df['Date'] = pd.to_datetime(glaxo_df['Date'])\n"
   ]
  },
  {
   "cell_type": "code",
   "execution_count": null,
   "id": "f5232810-ed49-498a-8e58-13f968fb6289",
   "metadata": {},
   "outputs": [],
   "source": [
    "# short by date\n",
    "beml_df.sort_values('Date', inplace=True)\n",
    "glaxo_df.sort_values('Date', inplace=True)\n"
   ]
  },
  {
   "cell_type": "code",
   "execution_count": null,
   "id": "1f05775c-15d7-49a1-9b97-f2fb5197a3ad",
   "metadata": {},
   "outputs": [],
   "source": [
    "# extract closing price\n",
    "beml_close = beml_df['Close']\n",
    "glaxo_close = glaxo_df['Close']\n"
   ]
  },
  {
   "cell_type": "code",
   "execution_count": null,
   "id": "81b478da-881d-4880-8130-348f6aa5a19c",
   "metadata": {},
   "outputs": [],
   "source": [
    " 10. Calculate Measures of Dispersion\n",
    "def calculate_dispersion(data, label):\n",
    "    print(f\"\\n--- Dispersion Measures for {label} ---\")\n",
    "    print(\"Mean:\", np.mean(data))\n",
    "    print(\"Median:\", np.median(data))\n",
    "    print(\"Range:\", np.max(data) - np.min(data))\n",
    "    print(\"IQR:\", np.percentile(data, 75) - np.percentile(data, 25))\n",
    "    print(\"Variance:\", np.var(data))\n",
    "    print(\"Std Deviation:\", np.std(data))\n",
    "    print(\"Mean Absolute Deviation:\", np.mean(np.abs(data - np.mean(data))))\n",
    "    print(\"Coefficient of Variation:\", np.std(data) / np.mean(data))\n",
    "\n",
    "calculate_dispersion(beml_close, \"BEML\")\n",
    "calculate_dispersion(glaxo_close, \"GLAXO\")\n"
   ]
  },
  {
   "cell_type": "code",
   "execution_count": null,
   "id": "4b96d961-d0d4-4e58-9cb0-614ab0fcd6f5",
   "metadata": {},
   "outputs": [],
   "source": [
    "# Boxplot\n",
    "\n",
    "plt.figure(figsize=(10, 4))\n",
    "sns.boxplot(data=[beml_close, glaxo_close], orient=\"v\")\n",
    "plt.xticks([0, 1], ['BEML', 'GLAXO'])\n",
    "plt.title(\"Boxplot - Closing Prices\")\n",
    "plt.show()"
   ]
  },
  {
   "cell_type": "code",
   "execution_count": null,
   "id": "d33c0352-b8c5-4c3c-970c-712ff2405084",
   "metadata": {},
   "outputs": [],
   "source": [
    "# Histogram\n",
    "\n",
    "plt.figure(figsize=(10, 4))\n",
    "plt.hist(beml_close, alpha=0.5, label='BEML')\n",
    "plt.hist(glaxo_close, alpha=0.5, label='GLAXO')\n",
    "plt.title(\"Histogram of Closing Prices\")\n",
    "plt.legend()\n",
    "plt.show()"
   ]
  },
  {
   "cell_type": "code",
   "execution_count": null,
   "id": "5020a2f2-bad8-4a7c-9b68-14658c852133",
   "metadata": {},
   "outputs": [],
   "source": [
    "# Time series\n",
    "plt.figure(figsize=(12, 5))\n",
    "plt.plot(beml_df['Date'], beml_close, label='BEML')\n",
    "plt.plot(glaxo_df['Date'], glaxo_close, label='GLAXO')\n",
    "plt.title(\"Stock Prices Over Time\")\n",
    "plt.xlabel(\"Date\")\n",
    "plt.ylabel(\"Close Price\")\n",
    "plt.legend()\n",
    "plt.show()"
   ]
  },
  {
   "cell_type": "code",
   "execution_count": null,
   "id": "2087e95a-bf61-442e-ada8-3bfa8d5b0526",
   "metadata": {},
   "outputs": [],
   "source": [
    "# Log Returns\n",
    "\n",
    "beml_log_ret = np.log(beml_close / beml_close.shift(1))\n",
    "glaxo_log_ret = np.log(glaxo_close / glaxo_close.shift(1))\n",
    "\n",
    "# Compare Return Volatility\n",
    "\n",
    "print(\"\\nBEML Log Return STD:\", beml_log_ret.std())\n",
    "print(\"GLAXO Log Return STD:\", glaxo_log_ret.std())"
   ]
  },
  {
   "cell_type": "code",
   "execution_count": null,
   "id": "8c941fe6-61e6-4ff2-8be0-4dad9b2e53a0",
   "metadata": {},
   "outputs": [],
   "source": [
    "# Correlation Matrix\n",
    "\n",
    "df_combined = pd.DataFrame({\n",
    "    'BEML': beml_close,\n",
    "    'GLAXO': glaxo_close\n",
    "})\n",
    "print(\"\\nCorrelation Matrix:\\n\", df_combined.corr())"
   ]
  },
  {
   "cell_type": "code",
   "execution_count": null,
   "id": "d768ae57-7c91-48ea-85ab-18542867d259",
   "metadata": {},
   "outputs": [],
   "source": [
    "# Risk Decision\n",
    "# make varible of cv\n",
    "if cv_beml < cv_glaxo:\n",
    "    print(\"\\n✅ BEML is less risky based on Coefficient of Variation.\")\n",
    "else:\n",
    "    print(\"\\n✅ GLAXO is less risky based on Coefficient of Variation.\")"
   ]
  },
  {
   "cell_type": "code",
   "execution_count": null,
   "id": "be778f67-10e7-4b97-a338-d681075a9774",
   "metadata": {},
   "outputs": [],
   "source": [
    "q2\n",
    "\n",
    "# Extract\n",
    "df_glaxo = pd.read_csv('/mnt/data/GLAXO.csv')\n",
    "df_glaxo['Date'] = pd.to_datetime(df_glaxo['Date'])\n",
    "\n",
    "# Feature Engineering\n",
    "df_glaxo['Year'] = df_glaxo['Date'].dt.year\n",
    "df_glaxo['Month'] = df_glaxo['Date'].dt.month\n",
    "df_glaxo['Day'] = df_glaxo['Date'].dt.day\n",
    "df_glaxo['Daily_Return'] = df_glaxo['Close'].pct_change()\n",
    "df_glaxo['Rolling_Mean_7'] = df_glaxo['Close'].rolling(window=7).mean()\n",
    "df_glaxo['Rolling_Std_7'] = df_glaxo['Close'].rolling(window=7).std()\n",
    "\n",
    "# Gain Calculation\n",
    "df_glaxo['Gain'] = df_glaxo['Close'].diff()\n",
    "df_glaxo['Cumulative_Gain'] = df_glaxo['Gain'].cumsum()\n",
    "\n",
    "# Time Plot\n",
    "plt.figure(figsize=(12,6))\n",
    "plt.plot(df_glaxo['Date'], df_glaxo['Close'], label='GLAXO Close Price', color='green')\n",
    "plt.xlabel('Date')\n",
    "plt.ylabel('Close Price')\n",
    "plt.title('GLAXO Stock Close Price Over Time')\n",
    "plt.legend()\n",
    "plt.grid(True)\n",
    "plt.tight_layout()\n",
    "plt.show()\n"
   ]
  }
 ],
 "metadata": {
  "kernelspec": {
   "display_name": "Python 3 (ipykernel)",
   "language": "python",
   "name": "python3"
  },
  "language_info": {
   "codemirror_mode": {
    "name": "ipython",
    "version": 3
   },
   "file_extension": ".py",
   "mimetype": "text/x-python",
   "name": "python",
   "nbconvert_exporter": "python",
   "pygments_lexer": "ipython3",
   "version": "3.13.5"
  }
 },
 "nbformat": 4,
 "nbformat_minor": 5
}
