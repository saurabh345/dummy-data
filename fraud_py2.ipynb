{
 "cells": [
  {
   "cell_type": "code",
   "execution_count": null,
   "id": "88b6f3dd-8897-4e52-89b7-ad4a151fd526",
   "metadata": {},
   "outputs": [],
   "source": [
    "#Q1\n",
    " text = \"Python is fun\"\n",
    "\n",
    "# a) Length of the string\n",
    "length = len(text)\n",
    "\n",
    "# b) Slicing to get 'fun'\n",
    "last_word = text[-3:]  # or text[10:]\n",
    "\n",
    "print(\"Length of string:\", length)\n",
    "print(\"Extracted word:\", last_word)\n"
   ]
  },
  {
   "cell_type": "code",
   "execution_count": null,
   "id": "cc63bd67-14fe-4d80-9914-33ac44eaba48",
   "metadata": {},
   "outputs": [],
   "source": [
    "#q2\n",
    "data = {\"a\": 10, \"b\": 5, \"c\": 15}\n",
    "\n",
    "updated = {\n",
    "    k: (v * 2 if v > 10 else v // 2)\n",
    "    for k, v in data.items()\n",
    "}\n",
    "\n",
    "print(updated)\n"
   ]
  },
  {
   "cell_type": "code",
   "execution_count": null,
   "id": "af5b0289-b3ef-42d6-87ae-f2dfe4a85a30",
   "metadata": {},
   "outputs": [],
   "source": [
    "#Q3\n",
    "# Take input from user\n",
    "nums = list(map(int, input(\"Enter numbers separated by spaces: \").split()))\n",
    "\n",
    "product = 1\n",
    "found = False\n",
    "\n",
    "for num in nums:\n",
    "    if num % 3 == 0:\n",
    "        product *= num\n",
    "        found = True\n",
    "\n",
    "if found:\n",
    "    print(\"Product of multiples of 3:\", product)\n",
    "else:\n",
    "    print(\"No multiples of 3 found\")\n"
   ]
  },
  {
   "cell_type": "code",
   "execution_count": null,
   "id": "5f5c3e42-2cd6-496b-873e-f2b76dd77226",
   "metadata": {},
   "outputs": [],
   "source": [
    "# Q4. Q4:\n",
    "# Task: Write a function sum_digits(n) that returns the sum of the digits of a number\n",
    "# Input: sum_digits(1234)\n",
    "# Expected output:\n",
    "# 10\n",
    "def sum_digits(n):\n",
    "    if n == 0:\n",
    "        return 0\n",
    "    else:\n",
    "        return n % 10 + sum_digits(n // 10)\n",
    "\n",
    "# Test\n",
    "print(sum_digits(1234))\n"
   ]
  },
  {
   "cell_type": "code",
   "execution_count": null,
   "id": "a8674333-890b-4429-8920-98197dbfce3b",
   "metadata": {},
   "outputs": [],
   "source": [
    "#Q5\n",
    "import numpy as np\n",
    "\n",
    "sales = np.array([1200, 1500, 1000, 1300, 1700, 1400, 1600])\n",
    "\n",
    "# Total revenue\n",
    "total = np.sum(sales)\n",
    "\n",
    "# Daily % contribution\n",
    "percentage = np.round((sales / total) * 100, 2)\n",
    "\n",
    "print(\"Total Revenue:\", total)\n",
    "print(\"Daily Percentage:\", percentage)\n"
   ]
  },
  {
   "cell_type": "code",
   "execution_count": null,
   "id": "7aad16cb-0cf1-4a77-86a9-863972292792",
   "metadata": {},
   "outputs": [],
   "source": [
    "#Q6\n",
    "import numpy as np\n",
    "import matplotlib.pyplot as plt\n",
    "\n",
    "salaries = np.array([45000, 50000, 55000, 47000, 62000, 67000, 72000])\n",
    "\n",
    "plt.hist(salaries, bins=5, color='skyblue', edgecolor='black')\n",
    "plt.xlabel(\"Salary Range\")\n",
    "plt.ylabel(\"Number of Employees\")\n",
    "plt.title(\"Salary Distribution\")\n",
    "plt.show()\n"
   ]
  },
  {
   "cell_type": "code",
   "execution_count": null,
   "id": "969a1a82-380b-448a-aa89-0f4a4b74fc5e",
   "metadata": {},
   "outputs": [],
   "source": [
    "#Q7\n",
    "class BankAccount:\n",
    "    def __init__(self, owner, balance=0):\n",
    "        self.owner = owner\n",
    "        self.balance = balance\n",
    "\n",
    "    def deposit(self, amount):\n",
    "        self.balance += amount\n",
    "        print(f\"Deposited: {amount}, New Balance: {self.balance}\")\n",
    "\n",
    "    def withdraw(self, amount):\n",
    "        if self.balance >= amount:\n",
    "            self.balance -= amount\n",
    "            print(f\"Withdrew: {amount}, New Balance: {self.balance}\")\n",
    "        else:\n",
    "            print(\"Insufficient funds!\")\n",
    "\n",
    "    def get_balance(self):\n",
    "        print(f\"Current Balance: {self.balance}\")\n",
    "\n",
    "\n",
    "# Test\n",
    "account = BankAccount(\"Alice\", 5000)\n",
    "account.deposit(1500)\n",
    "account.withdraw(1000)\n",
    "account.withdraw(6000)\n",
    "account.get_balance()\n"
   ]
  },
  {
   "cell_type": "code",
   "execution_count": null,
   "id": "501ff1b6-072c-47c6-a0bb-500cd865ef3c",
   "metadata": {},
   "outputs": [],
   "source": [
    "#q8\n",
    "import re\n",
    "\n",
    "text = \"Order IDs are 123 and 456. Please process them quickly.\"\n",
    "\n",
    "# Find all numbers\n",
    "numbers = re.findall(r\"\\d+\", text)\n",
    "\n",
    "# Convert strings to integers\n",
    "numbers = [int(num) for num in numbers]\n",
    "\n",
    "print(numbers)\n"
   ]
  }
 ],
 "metadata": {
  "kernelspec": {
   "display_name": "Python [conda env:base] *",
   "language": "python",
   "name": "conda-base-py"
  },
  "language_info": {
   "codemirror_mode": {
    "name": "ipython",
    "version": 3
   },
   "file_extension": ".py",
   "mimetype": "text/x-python",
   "name": "python",
   "nbconvert_exporter": "python",
   "pygments_lexer": "ipython3",
   "version": "3.12.7"
  }
 },
 "nbformat": 4,
 "nbformat_minor": 5
}
